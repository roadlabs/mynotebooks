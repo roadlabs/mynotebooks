{
 "cells": [
  {
   "cell_type": "markdown",
   "metadata": {},
   "source": [
    "# microbit for jupyter安装说明"
   ]
  },
  {
   "cell_type": "markdown",
   "metadata": {},
   "source": [
    "### 1、安装Serial Port驱动(仅Windows)"
   ]
  },
  {
   "cell_type": "markdown",
   "metadata": {},
   "source": [
    "对于Windows，需要先下载并安装[mbed Windows serial port driver](https://developer.mbed.org/handbook/Windows-serial-configuration)"
   ]
  },
  {
   "cell_type": "markdown",
   "metadata": {},
   "source": [
    "### 2、安装micobit内核"
   ]
  },
  {
   "cell_type": "markdown",
   "metadata": {},
   "source": [
    "在控制台窗口中，分别执行:\n",
    "\n",
    "    pip3 install ubit_kernel\n",
    "    python3 -m ubit_kernel.install"
   ]
  },
  {
   "cell_type": "code",
   "execution_count": null,
   "metadata": {
    "collapsed": true
   },
   "outputs": [],
   "source": [
    "!pip3 install ubit_kernel"
   ]
  },
  {
   "cell_type": "code",
   "execution_count": null,
   "metadata": {
    "collapsed": true
   },
   "outputs": [],
   "source": [
    "!python3 -m ubit_kernel.install"
   ]
  },
  {
   "cell_type": "markdown",
   "metadata": {},
   "source": [
    "### 3、启动Jupyter"
   ]
  },
  {
   "cell_type": "markdown",
   "metadata": {},
   "source": [
    "将microbit联入主机的usb口，启动Jupyter Notebook服务，并在浏览器环境中创建microbit内核的笔记本。"
   ]
  },
  {
   "cell_type": "markdown",
   "metadata": {},
   "source": [
    "### 4、测试Hello World"
   ]
  },
  {
   "cell_type": "code",
   "execution_count": null,
   "metadata": {
    "collapsed": true
   },
   "outputs": [],
   "source": [
    "while True:\n",
    "  display.scroll('Hello world!')\n",
    "  display.show(Image.HEART)\n",
    "  sleep(2000)"
   ]
  },
  {
   "cell_type": "markdown",
   "metadata": {},
   "source": [
    "### 5、打印指令集"
   ]
  },
  {
   "cell_type": "code",
   "execution_count": null,
   "metadata": {
    "collapsed": true
   },
   "outputs": [],
   "source": [
    "print(dir())"
   ]
  },
  {
   "cell_type": "markdown",
   "metadata": {},
   "source": [
    "### 6、测试按键"
   ]
  },
  {
   "cell_type": "code",
   "execution_count": null,
   "metadata": {
    "collapsed": true
   },
   "outputs": [],
   "source": [
    "while True:\n",
    "  if button_a.is_pressed():\n",
    "      display.scroll('A PRESSED')\n",
    "  if button_b.is_pressed():\n",
    "      display.scroll('B PRESSED')"
   ]
  },
  {
   "cell_type": "markdown",
   "metadata": {},
   "source": [
    "### 7、阻塞问题"
   ]
  },
  {
   "cell_type": "markdown",
   "metadata": {},
   "source": [
    "当某一单元格使用`while True`语句时，会出现会话阻塞现象，表现在其他单元格中的代码无法执行或处于等待状态，解决的办法是，点击Kernel菜单中的`Restart & Clear Output`项，重启Kernel并清除输出信息。"
   ]
  }
 ],
 "metadata": {
  "kernelspec": {
   "display_name": "micro:bit",
   "language": "python",
   "name": "ubit"
  },
  "language_info": {
   "codemirror_mode": {
    "name": "python",
    "version": 3
   },
   "file_extension": ".py",
   "mimetype": "text/x-python",
   "name": "python",
   "pygments_lexer": "python3",
   "version": "3"
  },
  "widgets": {
   "application/vnd.jupyter.widget-state+json": {
    "state": {},
    "version_major": 1,
    "version_minor": 0
   }
  }
 },
 "nbformat": 4,
 "nbformat_minor": 2
}
